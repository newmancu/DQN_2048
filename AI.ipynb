{
 "cells": [
  {
   "cell_type": "code",
   "execution_count": 1,
   "metadata": {},
   "outputs": [
    {
     "name": "stderr",
     "output_type": "stream",
     "text": [
      "c:\\Users\\kingp\\AppData\\Local\\Programs\\Python\\Python39\\lib\\site-packages\\tqdm\\auto.py:22: TqdmWarning: IProgress not found. Please update jupyter and ipywidgets. See https://ipywidgets.readthedocs.io/en/stable/user_install.html\n",
      "  from .autonotebook import tqdm as notebook_tqdm\n"
     ]
    }
   ],
   "source": [
    "from game_my import Game\n",
    "from test import Test\n",
    "import numpy as np\n",
    "from tqdm import tqdm\n",
    "import pandas as pd\n",
    "import matplotlib.pyplot as plt\n",
    "import torch\n",
    "import torch.nn as nn\n",
    "import torch.nn.functional as F\n",
    "from torch.autograd import Variable\n",
    "from torch.distributions import Bernoulli\n",
    "import copy\n",
    "import random\n",
    "%matplotlib inline"
   ]
  },
  {
   "cell_type": "code",
   "execution_count": 2,
   "metadata": {},
   "outputs": [],
   "source": [
    "class PolicyNet(nn.Module):\n",
    "    def __init__(self):\n",
    "        super(PolicyNet, self).__init__()\n",
    "        self.layers_stack = nn.Sequential(\n",
    "            nn.Linear(16, 32),\n",
    "            nn.ReLU(),\n",
    "            nn.Linear(32, 16),\n",
    "            nn.ReLU(),\n",
    "            nn.Linear(16, 4),\n",
    "            nn.Softmax()\n",
    "        )\n",
    "        self.move_list = ((-1,0), (1,0), (0,-1), (0,1))\n",
    "\n",
    "    def forward(self, x):\n",
    "        y = self.layers_stack(x)\n",
    "        return y\n",
    "\n",
    "    def decode(self, v):\n",
    "        return self.move_list[torch.argmax(v)]"
   ]
  },
  {
   "cell_type": "code",
   "execution_count": 3,
   "metadata": {},
   "outputs": [],
   "source": [
    "def loss_fn(y, target):\n",
    "  return F.l1_loss(y, target)\n",
    "\n",
    "def count_w_score(field, w, coef=.5):\n",
    "  c = {i:1 for i in field}\n",
    "  score = 0\n",
    "  for d in field:\n",
    "    score += w[d]*c[d]\n",
    "    c[d] = max(c[d], coef)\n",
    "  return score\n",
    "    "
   ]
  },
  {
   "cell_type": "code",
   "execution_count": 4,
   "metadata": {},
   "outputs": [
    {
     "name": "stdout",
     "output_type": "stream",
     "text": [
      "{2: 2, 4: 4, 8: 16, 16: 48, 32: 128, 64: 320, 128: 768, 256: 1792, 512: 4096, 1024: 9216, 2048: 20480, 4096: 45056, 0: 0}\n"
     ]
    }
   ],
   "source": [
    "I = 12\n",
    "w = [0]*I\n",
    "for i in range(1,I):\n",
    "  w[i] = 2**(i+1) + 2*w[i-1]\n",
    "w[0] = 2\n",
    "wd = {2**(i+1):w[i] for i in range(I)}\n",
    "wd[0] = 0\n",
    "print(wd)"
   ]
  },
  {
   "cell_type": "code",
   "execution_count": 10,
   "metadata": {},
   "outputs": [
    {
     "name": "stderr",
     "output_type": "stream",
     "text": [
      "  0%|          | 0/500 [00:00<?, ?it/s]c:\\Users\\kingp\\AppData\\Local\\Programs\\Python\\Python39\\lib\\site-packages\\torch\\nn\\modules\\container.py:141: UserWarning: Implicit dimension choice for softmax has been deprecated. Change the call to include dim=X as an argument.\n",
      "  input = module(input)\n",
      "100%|██████████| 500/500 [00:12<00:00, 40.34it/s]\n"
     ]
    }
   ],
   "source": [
    "random.seed(2)\n",
    "epoches = 500\n",
    "batch_size = 20\n",
    "batch_look_forward = 5\n",
    "max_moves = 1000\n",
    "lr = 3e-4\n",
    "coef = 1\n",
    "\n",
    "model = PolicyNet()\n",
    "optimizer = torch.optim.AdamW(model.parameters(), lr=lr)\n",
    "\n",
    "gMoves = []\n",
    "gScores = []\n",
    "gLoss = []\n",
    "\n",
    "best_field = []\n",
    "best_score = 0\n",
    "\n",
    "for e in tqdm(range(epoches)):\n",
    "  moves = 0\n",
    "  scores = 0\n",
    "  mLoos = 0\n",
    "\n",
    "  batch_fields = []\n",
    "  batch_scores = []\n",
    "\n",
    "  game = Game()\n",
    "  game.gen_cell()\n",
    "  while not game.end and moves <= max_moves:\n",
    "    # GENERATE BATCHES\n",
    "    tField = torch.FloatTensor(np.array(game.field).flatten())\n",
    "    curMove = model(tField)\n",
    "    with torch.no_grad():\n",
    "      # SAVE STATISTICS\n",
    "      field, score, end = game.step3(game.move_list[torch.argmax(curMove)])\n",
    "\n",
    "      batch_fields.append(np.array(field).flatten())\n",
    "      batch_scores.append(score if not end else -1/score)\n",
    "      scores = max(scores, score)\n",
    "      moves += 1\n",
    "\n",
    "      if scores > best_score:\n",
    "        best_score = scores\n",
    "        best_field = [row for row in field]\n",
    "        best_move = moves\n",
    "    \n",
    "    # TRAIN\n",
    "    if not (moves % batch_size):\n",
    "      pre_end = game.end\n",
    "      pre_field = [row[:] for row in game.field]\n",
    "      pre_score = game.score\n",
    "\n",
    "      lf_fields = torch.tensor(batch_fields[:-batch_look_forward], dtype=torch.float)\n",
    "      lf_scores = torch.tensor(batch_scores[batch_look_forward:], dtype=torch.float)\n",
    "      # print(moves, game.end, end)\n",
    "      batch_fields = []\n",
    "      batch_scores = []\n",
    "      optimizer.zero_grad()\n",
    "      y = model(lf_fields)\n",
    "      yy = []\n",
    "      # with torch.no_grad():\n",
    "      lf2_scores = []\n",
    "      lscore = 0\n",
    "      cfield = []\n",
    "      for yi, yj in enumerate(y):\n",
    "        game.save_game(lf_fields[yi], lf_scores[yi], pre_end)\n",
    "        for i in range(batch_look_forward):\n",
    "          cfield, lscore, end = game.step3(game.move_list[torch.argmax(yj)])\n",
    "        yy.append(lscore)\n",
    "        lf2_scores.append(count_w_score(np.array(cfield).flatten(), wd, coef))\n",
    "        game.restore_game()\n",
    "      yyy = torch.tensor(yy, dtype=torch.float, requires_grad=True)\n",
    "      lf22_scores = torch.tensor(lf2_scores, dtype=torch.float, requires_grad=True)\n",
    "\n",
    "      # print(lf_fields.shape, lf_scores.shape, yyy.shape)\n",
    "      loss = loss_fn(yyy, lf22_scores)\n",
    "      with torch.no_grad():\n",
    "        mLoos = loss.mean().item()\n",
    "      loss.backward()\n",
    "      optimizer.step()\n",
    "\n",
    "      game.end = pre_end\n",
    "      game.field = pre_field\n",
    "      game.score = pre_score\n",
    "\n",
    "  gMoves.append(moves)\n",
    "  gScores.append(scores)\n",
    "  gLoss.append(mLoos)"
   ]
  },
  {
   "cell_type": "code",
   "execution_count": 11,
   "metadata": {},
   "outputs": [
    {
     "data": {
      "text/plain": [
       "[<matplotlib.lines.Line2D at 0x184d35e6f10>]"
      ]
     },
     "execution_count": 11,
     "metadata": {},
     "output_type": "execute_result"
    },
    {
     "data": {
      "image/png": "[encoded data removed]",
      "text/plain": [
       "<Figure size 432x288 with 4 Axes>"
      ]
     },
     "metadata": {
      "needs_background": "light"
     },
     "output_type": "display_data"
    }
   ],
   "source": [
    "fig, axs = plt.subplots(2,2)\n",
    "axs[0][0].plot(gLoss)\n",
    "axs[0][1].plot(gMoves)\n",
    "axs[1][0].plot(gScores)\n"
   ]
  },
  {
   "cell_type": "code",
   "execution_count": 8,
   "metadata": {},
   "outputs": [
    {
     "data": {
      "text/html": [
       "<div>\n",
       "<style scoped>\n",
       "    .dataframe tbody tr th:only-of-type {\n",
       "        vertical-align: middle;\n",
       "    }\n",
       "\n",
       "    .dataframe tbody tr th {\n",
       "        vertical-align: top;\n",
       "    }\n",
       "\n",
       "    .dataframe thead th {\n",
       "        text-align: right;\n",
       "    }\n",
       "</style>\n",
       "<table border=\"1\" class=\"dataframe\">\n",
       "  <thead>\n",
       "    <tr style=\"text-align: right;\">\n",
       "      <th></th>\n",
       "      <th>0</th>\n",
       "    </tr>\n",
       "  </thead>\n",
       "  <tbody>\n",
       "    <tr>\n",
       "      <th>count</th>\n",
       "      <td>500.000000</td>\n",
       "    </tr>\n",
       "    <tr>\n",
       "      <th>mean</th>\n",
       "      <td>246.256000</td>\n",
       "    </tr>\n",
       "    <tr>\n",
       "      <th>std</th>\n",
       "      <td>119.654942</td>\n",
       "    </tr>\n",
       "    <tr>\n",
       "      <th>min</th>\n",
       "      <td>32.000000</td>\n",
       "    </tr>\n",
       "    <tr>\n",
       "      <th>25%</th>\n",
       "      <td>156.000000</td>\n",
       "    </tr>\n",
       "    <tr>\n",
       "      <th>50%</th>\n",
       "      <td>230.000000</td>\n",
       "    </tr>\n",
       "    <tr>\n",
       "      <th>75%</th>\n",
       "      <td>304.000000</td>\n",
       "    </tr>\n",
       "    <tr>\n",
       "      <th>max</th>\n",
       "      <td>760.000000</td>\n",
       "    </tr>\n",
       "  </tbody>\n",
       "</table>\n",
       "</div>"
      ],
      "text/plain": [
       "                0\n",
       "count  500.000000\n",
       "mean   246.256000\n",
       "std    119.654942\n",
       "min     32.000000\n",
       "25%    156.000000\n",
       "50%    230.000000\n",
       "75%    304.000000\n",
       "max    760.000000"
      ]
     },
     "execution_count": 8,
     "metadata": {},
     "output_type": "execute_result"
    }
   ],
   "source": [
    "a = pd.DataFrame(gScores)\n",
    "a.describe()"
   ]
  },
  {
   "cell_type": "code",
   "execution_count": 9,
   "metadata": {},
   "outputs": [
    {
     "name": "stdout",
     "output_type": "stream",
     "text": [
      "[tensor(2, dtype=torch.int32), tensor(16, dtype=torch.int32), tensor(64, dtype=torch.int32), tensor(2, dtype=torch.int32), tensor(4, dtype=torch.int32), tensor(2, dtype=torch.int32), tensor(16, dtype=torch.int32), tensor(32, dtype=torch.int32), tensor(2, dtype=torch.int32), tensor(4, dtype=torch.int32), tensor(8, dtype=torch.int32), tensor(32, dtype=torch.int32), tensor(2, dtype=torch.int32), tensor(4, dtype=torch.int32), tensor(2, dtype=torch.int32), tensor(32, dtype=torch.int32)] 760 94\n"
     ]
    }
   ],
   "source": [
    "print(best_field, best_score, best_move)"
   ]
  },
  {
   "cell_type": "code",
   "execution_count": null,
   "metadata": {},
   "outputs": [],
   "source": []
  },
  {
   "cell_type": "code",
   "execution_count": null,
   "metadata": {},
   "outputs": [],
   "source": [
    "epoches = 500\n",
    "batch_size = 20\n",
    "batch_look_forward = 10\n",
    "max_moves = 1000\n",
    "lr = 3e-6\n",
    "\n",
    "model = PolicyNet()\n",
    "optimizer = torch.optim.AdamW(model.parameters(), lr=lr)\n",
    "\n",
    "gMoves = []\n",
    "gScores = []\n",
    "gLoss = []\n",
    "\n",
    "best_field = []\n",
    "best_score = 0\n",
    "\n",
    "for e in tqdm(range(epoches)):\n",
    "  moves = 0\n",
    "  scores = 0\n",
    "  mLoos = 0\n",
    "\n",
    "  batch_fields = []\n",
    "  batch_scores = []\n",
    "\n",
    "  game = Game()\n",
    "  game.gen_cell()\n",
    "  while not game.end and moves <= max_moves:\n",
    "    # GENERATE BATCHES\n",
    "    tField = torch.FloatTensor(np.array(game.field).flatten())\n",
    "    curMove = model(tField)\n",
    "    with torch.no_grad():\n",
    "      # SAVE STATISTICS\n",
    "      field, score, end = game.step2(torch.sort(curMove, descending=True)[1])\n",
    "\n",
    "      batch_fields.append(np.array(field).flatten())\n",
    "      batch_scores.append(score)\n",
    "      scores = max(scores, score)\n",
    "      moves += 1\n",
    "\n",
    "      if scores > best_score:\n",
    "        best_score = scores\n",
    "        best_field = [row[:] for row in field]\n",
    "        best_move = moves\n",
    "    \n",
    "    # TRAIN\n",
    "    if not (moves % batch_size):\n",
    "      pre_end = game.end\n",
    "      pre_field = [row[:] for row in game.field]\n",
    "      pre_score = game.score\n",
    "\n",
    "      lf_fields = torch.tensor(batch_fields[:-batch_look_forward], dtype=torch.float)\n",
    "      lf_scores = torch.tensor(batch_scores[batch_look_forward:], dtype=torch.float)\n",
    "      # print(moves, game.end, end)\n",
    "      batch_fields = []\n",
    "      batch_scores = []\n",
    "      optimizer.zero_grad()\n",
    "      y = model(lf_fields)\n",
    "      yy = []\n",
    "      # with torch.no_grad():\n",
    "      lscore = 0\n",
    "      for yi, yj in enumerate(y):\n",
    "        game.save_game(lf_fields[yi], lf_scores[yi], pre_end)\n",
    "        for i in range(batch_look_forward):\n",
    "          field, lscore, end = game.step2(torch.sort(yj, descending=True)[1])\n",
    "        yy.append(lscore)\n",
    "        game.restore_game()\n",
    "      yyy = torch.tensor(yy, dtype=torch.float, requires_grad=True)\n",
    "\n",
    "      # print(lf_fields.shape, lf_scores.shape, yyy.shape)\n",
    "      loss = loss_fn(yyy, lf_scores)\n",
    "      with torch.no_grad():\n",
    "        mLoos = loss.mean().item()\n",
    "      loss.backward()\n",
    "      optimizer.step()\n",
    "\n",
    "      game.end = pre_end\n",
    "      game.field = pre_field\n",
    "      game.score = pre_score\n",
    "\n",
    "  gMoves.append(moves)\n",
    "  gScores.append(scores)\n",
    "  gLoss.append(mLoos)"
   ]
  }
 ],
 "metadata": {
  "interpreter": {
   "hash": "6f1167607e250ddfd9252802998e48b806be7869297d49de4d40ad7c59721af7"
  },
  "kernelspec": {
   "display_name": "Python 3.9.10 64-bit",
   "language": "python",
   "name": "python3"
  },
  "language_info": {
   "codemirror_mode": {
    "name": "ipython",
    "version": 3
   },
   "file_extension": ".py",
   "mimetype": "text/x-python",
   "name": "python",
   "nbconvert_exporter": "python",
   "pygments_lexer": "ipython3",
   "version": "3.9.10"
  },
  "orig_nbformat": 4
 },
 "nbformat": 4,
 "nbformat_minor": 2
}
